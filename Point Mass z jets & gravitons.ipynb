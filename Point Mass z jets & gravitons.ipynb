{
 "cells": [
  {
   "cell_type": "code",
   "execution_count": 134,
   "metadata": {},
   "outputs": [],
   "source": [
    "import uproot\n",
    "import uproot_methods\n",
    "import awkward\n",
    "import matplotlib.pyplot as plt\n",
    "import numpy as np"
   ]
  },
  {
   "cell_type": "markdown",
   "metadata": {},
   "source": [
    "# Graviton file 1"
   ]
  },
  {
   "cell_type": "code",
   "execution_count": 135,
   "metadata": {},
   "outputs": [
    {
     "name": "stdout",
     "output_type": "stream",
     "text": [
      "[b'nJet', b'jet_pt', b'jet_eta', b'jet_phi', b'jet_m', b'jet_nc', b'jet_ic', b'nGen', b'gen_pt', b'gen_eta', b'gen_phi', b'gen_m', b'gen_flags', b'gen_id', b'gen_status', b'gen_mother1', b'gen_mother2', b'gen_daughter1', b'gen_daughter2', b'gen_col', b'gen_vxx', b'gen_vyy', b'gen_vzz', b'gen_tau']\n",
      "-------------------\n",
      "[[95.17232513427734 29.309045791625977 26.182828903198242] [102.0893783569336 98.84876251220703] [100.30120086669922 89.71388244628906] ... [243.06539916992188 64.61126708984375 93.01264190673828 56.194862365722656] [85.60334777832031] [102.63475036621094 80.60110473632812 140.83009338378906]]\n"
     ]
    }
   ],
   "source": [
    "RJ = uproot.open(\"/home/physicist/results/gravkk_zz_1TeV.root\")[\"T\"] g,kj\n",
    "print(RJ.keys())\n",
    "ja = RJ.arrays(['gen_pt', 'gen_eta', 'gen_phi', 'gen_m', \n",
    "               'gen_id', 'gen_status', \n",
    "               'gen_mother1', 'gen_mother2', \n",
    "               'gen_daughter1', 'gen_daughter2', \n",
    "               'gen_col', 'jet_pt', 'jet_eta', 'jet_phi', 'jet_m', 'nJet', 'jet_ic', 'jet_nc'])\n",
    "\n",
    "gen_pt = ja[b'gen_pt']\n",
    "gen_eta = ja[b'gen_eta']\n",
    "gen_phi = ja[b'gen_phi']\n",
    "gen_m = ja[b'gen_m']\n",
    "\n",
    "gen_id = ja[b'gen_id']\n",
    "gen_status = ja[b'gen_status']\n",
    "\n",
    "##### Jets\n",
    "jet_pt = ja[b'jet_pt']\n",
    "jet_eta = ja[b'jet_eta']\n",
    "jet_phi = ja[b'jet_phi']\n",
    "jet_m = ja[b'jet_m']\n",
    "jet_ic = ja[b'jet_ic']\n",
    "jet_nc = ja[b'jet_nc']\n",
    "nJet = ja[b'nJet']\n",
    "\n",
    "print('-------------------')\n",
    "\n",
    "print(jet_m)"
   ]
  },
  {
   "cell_type": "code",
   "execution_count": 136,
   "metadata": {},
   "outputs": [],
   "source": [
    "jets = uproot_methods.TLorentzVectorArray.from_ptetaphim(jet_pt, jet_eta, jet_phi, jet_m)\n",
    "particles = uproot_methods.TLorentzVectorArray.from_ptetaphim(gen_pt, gen_eta, gen_phi, gen_m)\n",
    "\n",
    "# make lloretz array for gen values as well"
   ]
  },
  {
   "cell_type": "code",
   "execution_count": 137,
   "metadata": {},
   "outputs": [],
   "source": [
    "isz = abs(gen_id) == 23\n",
    "ishard = abs(gen_status) == 22\n",
    "selected = isz & ishard\n",
    "zbosons = particles[ selected ]"
   ]
  },
  {
   "cell_type": "code",
   "execution_count": 138,
   "metadata": {},
   "outputs": [
    {
     "data": {
      "text/plain": [
       "array([218.51688, 365.47864, 430.68076, ..., 362.4077 , 377.41757,\n",
       "       738.8954 ], dtype=float32)"
      ]
     },
     "execution_count": 138,
     "metadata": {},
     "output_type": "execute_result"
    }
   ],
   "source": [
    "zbosons.pt.flatten()"
   ]
  },
  {
   "cell_type": "code",
   "execution_count": 139,
   "metadata": {},
   "outputs": [
    {
     "data": {
      "image/png": "[encoded data removed]",
      "text/plain": [
       "<Figure size 432x288 with 1 Axes>"
      ]
     },
     "metadata": {
      "needs_background": "light"
     },
     "output_type": "display_data"
    }
   ],
   "source": [
    "ptbins = [0, 50, 100, 150, 200, 250, 300, 350, 400, 450, 500, 550, 600, 650, 700, 750]\n",
    "plt.hist(x=zbosons.pt.flatten(), bins=ptbins, log=True, density=True)\n",
    "plt.show()"
   ]
  },
  {
   "cell_type": "markdown",
   "metadata": {},
   "source": [
    "##### End of RS KK Graviton 1 plot for particles"
   ]
  },
  {
   "cell_type": "markdown",
   "metadata": {},
   "source": [
    "# Graviton 2 File start "
   ]
  },
  {
   "cell_type": "code",
   "execution_count": 140,
   "metadata": {},
   "outputs": [
    {
     "name": "stdout",
     "output_type": "stream",
     "text": [
      "-------------------\n",
      "[b'nJet', b'jet_pt', b'jet_eta', b'jet_phi', b'jet_m', b'jet_nc', b'jet_ic', b'nGen', b'gen_pt', b'gen_eta', b'gen_phi', b'gen_m', b'gen_flags', b'gen_id', b'gen_status', b'gen_mother1', b'gen_mother2', b'gen_daughter1', b'gen_daughter2', b'gen_col', b'gen_vxx', b'gen_vyy', b'gen_vzz', b'gen_tau']\n"
     ]
    }
   ],
   "source": [
    "G2 = uproot.open(\"/home/physicist/results/gravkk_zz_2TeV.root\")[\"T\"]\n",
    "\n",
    "g2 = G2.arrays(['gen_pt', 'gen_eta', 'gen_phi', 'gen_m', \n",
    "               'gen_id', 'gen_status', \n",
    "               'gen_mother1', 'gen_mother2', \n",
    "               'gen_daughter1', 'gen_daughter2', \n",
    "               'gen_col', 'jet_pt', 'jet_eta', 'jet_phi', 'jet_m', 'nJet', 'jet_ic', 'jet_nc'])\n",
    "\n",
    "gen_pt2 = g2[b'gen_pt']\n",
    "gen_eta2 = g2[b'gen_eta']\n",
    "gen_phi2 = g2[b'gen_phi']\n",
    "gen_m2 = g2[b'gen_m']\n",
    "\n",
    "gen_id2 = g2[b'gen_id']\n",
    "gen_status2 = g2[b'gen_status']\n",
    "\n",
    "##### Jets\n",
    "jet_pt2 = g2[b'jet_pt']\n",
    "jet_eta2 = g2[b'jet_eta']\n",
    "jet_phi2 = g2[b'jet_phi']\n",
    "jet_m2 = g2[b'jet_m']\n",
    "jet_ic2 = g2[b'jet_ic']\n",
    "jet_nc2 = g2[b'jet_nc']\n",
    "nJet2 = g2[b'nJet']\n",
    "\n",
    "print('-------------------')\n",
    "\n",
    "print(G2.keys())\n"
   ]
  },
  {
   "cell_type": "code",
   "execution_count": 141,
   "metadata": {},
   "outputs": [],
   "source": [
    "jets2 = uproot_methods.TLorentzVectorArray.from_ptetaphim(jet_pt2, jet_eta2, jet_phi2, jet_m2)\n",
    "particles2 = uproot_methods.TLorentzVectorArray.from_ptetaphim(gen_pt2, gen_eta2, gen_phi2, gen_m2)"
   ]
  },
  {
   "cell_type": "code",
   "execution_count": 142,
   "metadata": {},
   "outputs": [],
   "source": [
    "isz = abs(gen_id2) == 23\n",
    "ishard = abs(gen_status2) == 22\n",
    "selected2 = isz & ishard\n",
    "zbosons2 = particles2[ selected2 ]"
   ]
  },
  {
   "cell_type": "code",
   "execution_count": 143,
   "metadata": {},
   "outputs": [
    {
     "data": {
      "text/plain": [
       "array([ 715.0192 ,  819.7231 ,  616.96265, ...,  911.4748 , 1028.1161 ,\n",
       "        864.39954], dtype=float32)"
      ]
     },
     "execution_count": 143,
     "metadata": {},
     "output_type": "execute_result"
    }
   ],
   "source": [
    "zbosons2.pt.flatten()"
   ]
  },
  {
   "cell_type": "code",
   "execution_count": 144,
   "metadata": {},
   "outputs": [
    {
     "data": {
      "image/png": "[encoded data removed]",
      "text/plain": [
       "<Figure size 432x288 with 1 Axes>"
      ]
     },
     "metadata": {
      "needs_background": "light"
     },
     "output_type": "display_data"
    }
   ],
   "source": [
    "ptbins2 = [0, 50, 100, 150, 200, 250, 300, 350, 400, 450, 500, 550, 600\n",
    "           , 650, 700, 750, 800, 850, 900, 950, 1000, 1050,1100]\n",
    "plt.hist(x=zbosons2.pt.flatten(), bins=ptbins2, log=True, density=True)\n",
    "plt.show()"
   ]
  },
  {
   "cell_type": "markdown",
   "metadata": {},
   "source": [
    "#### Graviton 2 plot ends here"
   ]
  },
  {
   "cell_type": "code",
   "execution_count": 145,
   "metadata": {},
   "outputs": [
    {
     "name": "stdout",
     "output_type": "stream",
     "text": [
      "-------------------\n",
      "[b'nJet', b'jet_pt', b'jet_eta', b'jet_phi', b'jet_m', b'jet_nc', b'jet_ic', b'nGen', b'gen_pt', b'gen_eta', b'gen_phi', b'gen_m', b'gen_flags', b'gen_id', b'gen_status', b'gen_mother1', b'gen_mother2', b'gen_daughter1', b'gen_daughter2', b'gen_col', b'gen_vxx', b'gen_vyy', b'gen_vzz', b'gen_tau']\n"
     ]
    }
   ],
   "source": [
    "G3 = uproot.open(\"/home/physicist/results/gravkk_zz_3TeV.root\")[\"T\"]\n",
    "\n",
    "g3 = G3.arrays(['gen_pt', 'gen_eta', 'gen_phi', 'gen_m', \n",
    "               'gen_id', 'gen_status', \n",
    "               'gen_mother1', 'gen_mother2', \n",
    "               'gen_daughter1', 'gen_daughter2', \n",
    "               'gen_col', 'jet_pt', 'jet_eta', 'jet_phi', 'jet_m', 'nJet', 'jet_ic', 'jet_nc'])\n",
    "\n",
    "gen_pt3 = g3[b'gen_pt']\n",
    "gen_eta3 = g3[b'gen_eta']\n",
    "gen_phi3 = g3[b'gen_phi']\n",
    "gen_m3 = g3[b'gen_m']\n",
    "\n",
    "gen_id3 = g3[b'gen_id']\n",
    "gen_status3 = g3[b'gen_status']\n",
    "\n",
    "##### Jets\n",
    "jet_pt3 = g3[b'jet_pt']\n",
    "jet_eta3 = g3[b'jet_eta']\n",
    "jet_phi3 = g3[b'jet_phi']\n",
    "jet_m3 = g3[b'jet_m']\n",
    "jet_ic3 = g3[b'jet_ic']\n",
    "jet_nc3 = g3[b'jet_nc']\n",
    "nJet3 = g3[b'nJet']\n",
    "\n",
    "print('-------------------')\n",
    "\n",
    "print(G3.keys())"
   ]
  },
  {
   "cell_type": "code",
   "execution_count": 146,
   "metadata": {},
   "outputs": [],
   "source": [
    "jet3 = uproot_methods.TLorentzVectorArray.from_ptetaphim(jet_pt3, jet_eta3, jet_phi3, jet_m3)\n",
    "particles3 = uproot_methods.TLorentzVectorArray.from_ptetaphim(gen_pt3, gen_eta3, gen_phi3, gen_m3)"
   ]
  },
  {
   "cell_type": "code",
   "execution_count": 147,
   "metadata": {},
   "outputs": [],
   "source": [
    "isz = abs(gen_id3) == 23\n",
    "ishard = abs(gen_status3) == 22\n",
    "selected3 = isz & ishard\n",
    "zbosons3 = particles3[ selected3 ]"
   ]
  },
  {
   "cell_type": "code",
   "execution_count": 148,
   "metadata": {},
   "outputs": [
    {
     "data": {
      "text/plain": [
       "array([ 902.5173 ,  966.0911 ,  479.58282, ..., 1491.8304 ,  340.59464,\n",
       "        886.9976 ], dtype=float32)"
      ]
     },
     "execution_count": 148,
     "metadata": {},
     "output_type": "execute_result"
    }
   ],
   "source": [
    "zbosons3.pt.flatten()"
   ]
  },
  {
   "cell_type": "code",
   "execution_count": 149,
   "metadata": {},
   "outputs": [
    {
     "data": {
      "image/png": "[encoded data removed]",
      "text/plain": [
       "<Figure size 432x288 with 1 Axes>"
      ]
     },
     "metadata": {
      "needs_background": "light"
     },
     "output_type": "display_data"
    }
   ],
   "source": [
    "ptbins3 = [0, 50, 100, 150, 200, 250, 300, 350, 400, 450, 500, 550, 600, 650\n",
    "           , 700, 750, 800, 850, 900, 950, 1000, 1050, 1100, 1150, 1200, 1250, 1300, 1350, 1400, 1450, 1500, 1550, 1600, 1650, 1700, 1750, 1800, 1850, 1900, 1950, 2000]\n",
    "plt.hist(x=zbosons3.pt.flatten(), bins=ptbins3, log=True, density=True)\n",
    "plt.show()"
   ]
  },
  {
   "cell_type": "markdown",
   "metadata": {},
   "source": [
    "#### Graviton 3 plot ends here"
   ]
  },
  {
   "cell_type": "code",
   "execution_count": 150,
   "metadata": {},
   "outputs": [
    {
     "data": {
      "text/plain": [
       "array([368.33014, 202.1266 , 195.94977, ..., 744.0823 , 611.75574,\n",
       "       379.6665 ], dtype=float32)"
      ]
     },
     "execution_count": 150,
     "metadata": {},
     "output_type": "execute_result"
    }
   ],
   "source": [
    "jets.pt.flatten()"
   ]
  },
  {
   "cell_type": "code",
   "execution_count": 151,
   "metadata": {},
   "outputs": [
    {
     "data": {
      "image/png": "[encoded data removed]",
      "text/plain": [
       "<Figure size 432x288 with 1 Axes>"
      ]
     },
     "metadata": {
      "needs_background": "light"
     },
     "output_type": "display_data"
    }
   ],
   "source": [
    "ptbins4 = [0, 50, 100, 150, 200, 250, 300, 350, 400, 450, 500, 550, 600, 650\n",
    "           , 700, 750, 800, 850, 900, 950, 1000]\n",
    "plt.hist(x=jets.pt.flatten(), bins=ptbins4, log=True, density=True)\n",
    "plt.show()"
   ]
  },
  {
   "cell_type": "code",
   "execution_count": 152,
   "metadata": {},
   "outputs": [
    {
     "data": {
      "image/png": "[encoded data removed]",
      "text/plain": [
       "<Figure size 432x288 with 1 Axes>"
      ]
     },
     "metadata": {
      "needs_background": "light"
     },
     "output_type": "display_data"
    }
   ],
   "source": [
    "ptbins5 = [0, 50, 100, 150, 200, 250, 300, 350, 400, 450, 500, 550, 600, 650\n",
    "           , 700, 750, 800, 850, 900, 950, 1000, 1050, 1100, 1150, 1200, 1250, 1300, 1350, 1400,\n",
    "           1450, 1500, 1550, 1600, 1650, 1700, 1750, 1800, 1850, 1900, 1950, 2000]\n",
    "plt.hist(x=jets2.pt.flatten(), bins=ptbins5, log=True, density=True)\n",
    "plt.show()"
   ]
  },
  {
   "cell_type": "code",
   "execution_count": 153,
   "metadata": {},
   "outputs": [
    {
     "data": {
      "image/png": "[encoded data removed]",
      "text/plain": [
       "<Figure size 432x288 with 1 Axes>"
      ]
     },
     "metadata": {
      "needs_background": "light"
     },
     "output_type": "display_data"
    }
   ],
   "source": [
    "ptbins6 = [0, 50, 100, 150, 200, 250, 300, 350, 400, 450, 500, 550, 600, 650\n",
    "           , 700, 750, 800, 850, 900, 950, 1000, 1050, 1100, 1150, 1200, 1250, 1300, 1350, 1400,\n",
    "           1450, 1500, 1550, 1600, 1650, 1700, 1750, 1800, 1850, 1900, 1950, 2000]\n",
    "plt.hist(x=jet3.pt.flatten(), bins=ptbins6, log=True, density=True)\n",
    "plt.show()"
   ]
  },
  {
   "cell_type": "code",
   "execution_count": 154,
   "metadata": {},
   "outputs": [
    {
     "data": {
      "text/plain": [
       "(array([0.        , 0.        , 0.        , 0.0005076 , 0.00105769,\n",
       "        0.00155411, 0.00205948, 0.00246869, 0.00290698, 0.00417934,\n",
       "        0.00288909, 0.00116279, 0.00055456, 0.00037343, 0.00028623]),\n",
       " array([  0,  50, 100, 150, 200, 250, 300, 350, 400, 450, 500, 550, 600,\n",
       "        650, 700, 750]),\n",
       " <a list of 15 Patch objects>)"
      ]
     },
     "execution_count": 154,
     "metadata": {},
     "output_type": "execute_result"
    },
    {
     "data": {
      "image/png": "[encoded data removed]",
      "text/plain": [
       "<Figure size 432x288 with 1 Axes>"
      ]
     },
     "metadata": {
      "needs_background": "light"
     },
     "output_type": "display_data"
    }
   ],
   "source": [
    "jets = uproot_methods.TLorentzVectorArray.from_ptetaphim(jet_pt, jet_eta, jet_phi, jet_m)\n",
    "jets_pt = jets.pt\n",
    "jet_imaxpt = jets_pt.argmax()\n",
    "leadingjets = jets[jet_imaxpt]\n",
    "plt.hist(x= leadingjets.pt.flatten(), bins=ptbins, log=True, density=True)"
   ]
  },
  {
   "cell_type": "code",
   "execution_count": 155,
   "metadata": {},
   "outputs": [
    {
     "data": {
      "text/plain": [
       "(array([0.00000000e+00, 0.00000000e+00, 0.00000000e+00, 9.55187481e-05,\n",
       "        2.49974596e-04, 2.98750127e-04, 3.88171934e-04, 4.61335230e-04,\n",
       "        5.60918606e-04, 6.27984961e-04, 6.78792806e-04, 8.86088812e-04,\n",
       "        9.12508891e-04, 9.71445991e-04, 1.18077431e-03, 1.28645463e-03,\n",
       "        1.40026420e-03, 1.51610609e-03, 1.76201606e-03, 2.59932934e-03,\n",
       "        2.05263693e-03, 8.57636419e-04, 3.96301189e-04, 2.27619144e-04,\n",
       "        1.44294279e-04, 1.48358907e-04, 8.12925516e-05, 5.89370999e-05,\n",
       "        2.43877655e-05, 3.65816482e-05, 2.03231379e-05, 1.62585103e-05,\n",
       "        2.23554517e-05, 6.09694137e-06, 8.12925516e-06, 8.12925516e-06,\n",
       "        4.06462758e-06, 2.03231379e-06, 6.09694137e-06, 2.03231379e-06]),\n",
       " array([   0,   50,  100,  150,  200,  250,  300,  350,  400,  450,  500,\n",
       "         550,  600,  650,  700,  750,  800,  850,  900,  950, 1000, 1050,\n",
       "        1100, 1150, 1200, 1250, 1300, 1350, 1400, 1450, 1500, 1550, 1600,\n",
       "        1650, 1700, 1750, 1800, 1850, 1900, 1950, 2000]),\n",
       " <a list of 40 Patch objects>)"
      ]
     },
     "execution_count": 155,
     "metadata": {},
     "output_type": "execute_result"
    },
    {
     "data": {
      "image/png": "[encoded data removed]",
      "text/plain": [
       "<Figure size 432x288 with 1 Axes>"
      ]
     },
     "metadata": {
      "needs_background": "light"
     },
     "output_type": "display_data"
    }
   ],
   "source": [
    "#jets = uproot_methods.TLorentzVectorArray.from_ptetaphim(jet_pt, jet_eta, jet_phi, jet_m)\n",
    "jets_pt2 = jets2.pt\n",
    "jet_imaxpt2 = jets_pt2.argmax()\n",
    "leadingjets2 = jets2[jet_imaxpt2]\n",
    "plt.hist(x= leadingjets2.pt.flatten(), bins=ptbins5, log=True, density=True)"
   ]
  },
  {
   "cell_type": "code",
   "execution_count": 156,
   "metadata": {},
   "outputs": [
    {
     "data": {
      "text/plain": [
       "(array([0.00000000e+00, 0.00000000e+00, 0.00000000e+00, 4.25704439e-05,\n",
       "        5.87877559e-05, 9.93310359e-05, 1.60145956e-04, 1.90553416e-04,\n",
       "        1.76363268e-04, 2.06770728e-04, 2.45286844e-04, 2.89884452e-04,\n",
       "        3.42590716e-04, 3.93269816e-04, 3.95296980e-04, 4.29758767e-04,\n",
       "        4.43948915e-04, 5.47334279e-04, 5.04763835e-04, 6.48692479e-04,\n",
       "        6.40583823e-04, 7.23697547e-04, 7.76403811e-04, 8.29110075e-04,\n",
       "        1.00952767e-03, 1.02371782e-03, 1.10480438e-03, 1.32576525e-03,\n",
       "        1.67241030e-03, 2.23596189e-03, 1.99675654e-03, 6.06122035e-04,\n",
       "        3.42590716e-04, 2.04743564e-04, 1.19602676e-04, 8.71680519e-05,\n",
       "        4.86519359e-05, 3.44617880e-05, 2.83802960e-05, 1.41901480e-05]),\n",
       " array([   0,   50,  100,  150,  200,  250,  300,  350,  400,  450,  500,\n",
       "         550,  600,  650,  700,  750,  800,  850,  900,  950, 1000, 1050,\n",
       "        1100, 1150, 1200, 1250, 1300, 1350, 1400, 1450, 1500, 1550, 1600,\n",
       "        1650, 1700, 1750, 1800, 1850, 1900, 1950, 2000]),\n",
       " <a list of 40 Patch objects>)"
      ]
     },
     "execution_count": 156,
     "metadata": {},
     "output_type": "execute_result"
    },
    {
     "data": {
      "image/png": "[encoded data removed]",
      "text/plain": [
       "<Figure size 432x288 with 1 Axes>"
      ]
     },
     "metadata": {
      "needs_background": "light"
     },
     "output_type": "display_data"
    }
   ],
   "source": [
    "jets_pt3 = jet3.pt\n",
    "jet_imaxpt3 = jet_pt3.argmax()\n",
    "leadingjets3 = jet3[jet_imaxpt3]\n",
    "plt.hist(x= leadingjets3.pt.flatten(), bins=ptbins5, log=True, density=True)"
   ]
  },
  {
   "cell_type": "markdown",
   "metadata": {},
   "source": [
    "# Invariant mass calculation"
   ]
  },
  {
   "cell_type": "code",
   "execution_count": 157,
   "metadata": {},
   "outputs": [],
   "source": [
    "Grav3 = leadingjets3.cross(zbosons3)"
   ]
  },
  {
   "cell_type": "code",
   "execution_count": 158,
   "metadata": {},
   "outputs": [],
   "source": [
    "arr = []\n",
    "f = 0\n",
    "\n",
    "for i in range(81):\n",
    "    arr.append(f)\n",
    "    f += 50"
   ]
  },
  {
   "cell_type": "code",
   "execution_count": 159,
   "metadata": {},
   "outputs": [
    {
     "name": "stdout",
     "output_type": "stream",
     "text": [
      "[0, 50, 100, 150, 200, 250, 300, 350, 400, 450, 500, 550, 600, 650, 700, 750, 800, 850, 900, 950, 1000, 1050, 1100, 1150, 1200, 1250, 1300, 1350, 1400, 1450, 1500, 1550, 1600, 1650, 1700, 1750, 1800, 1850, 1900, 1950, 2000, 2050, 2100, 2150, 2200, 2250, 2300, 2350, 2400, 2450, 2500, 2550, 2600, 2650, 2700, 2750, 2800, 2850, 2900, 2950, 3000, 3050, 3100, 3150, 3200, 3250, 3300, 3350, 3400, 3450, 3500, 3550, 3600, 3650, 3700, 3750, 3800, 3850, 3900, 3950, 4000]\n",
      "[[3003.10791015625 192.16659545898438] [185.25657653808594 3002.63916015625] [3006.418212890625 185.16209411621094] ... [3000.51904296875 185.72593688964844] [3015.4609375 215.16331481933594] [3020.165283203125 202.47344970703125]]\n"
     ]
    }
   ],
   "source": [
    "print(arr)\n",
    "total = Grav3.i0 + Grav3.i1\n",
    "print (total.mass)"
   ]
  },
  {
   "cell_type": "code",
   "execution_count": 160,
   "metadata": {},
   "outputs": [
    {
     "data": {
      "text/plain": [
       "(array([0.00000000e+00, 3.03106845e-06, 9.59838343e-05, 5.08209144e-03,\n",
       "        3.71710028e-03, 4.35463501e-04, 1.88936600e-04, 9.09320535e-05,\n",
       "        8.08284920e-05, 4.74867391e-05, 2.32381915e-05, 3.73831776e-05,\n",
       "        2.93003284e-05, 1.71760546e-05, 2.12174792e-05, 1.21242738e-05,\n",
       "        7.07249305e-06, 9.09320535e-06, 7.07249305e-06, 1.01035615e-05,\n",
       "        1.11139177e-05, 8.08284920e-06, 1.01035615e-05, 5.05178075e-06,\n",
       "        5.05178075e-06, 3.03106845e-06, 2.02071230e-06, 5.05178075e-06,\n",
       "        6.06213690e-06, 8.08284920e-06, 6.06213690e-06, 8.08284920e-06,\n",
       "        6.06213690e-06, 7.07249305e-06, 9.09320535e-06, 3.03106845e-06,\n",
       "        5.05178075e-06, 7.07249305e-06, 2.02071230e-06, 5.05178075e-06,\n",
       "        4.04142460e-06, 6.06213690e-06, 2.02071230e-06, 6.06213690e-06,\n",
       "        4.04142460e-06, 7.07249305e-06, 6.06213690e-06, 4.04142460e-06,\n",
       "        4.04142460e-06, 9.09320535e-06, 3.03106845e-06, 3.03106845e-06,\n",
       "        6.06213690e-06, 1.11139177e-05, 1.01035615e-05, 1.01035615e-05,\n",
       "        1.01035615e-05, 1.71760546e-05, 2.42485476e-05, 5.22354130e-04,\n",
       "        8.51225057e-03, 2.78858298e-04, 1.55594847e-04, 8.48699166e-05,\n",
       "        5.25385198e-05, 4.14246022e-05, 3.53624653e-05, 1.81864107e-05,\n",
       "        1.61656984e-05, 1.81864107e-05, 1.51553423e-05, 1.41449861e-05,\n",
       "        7.07249305e-06, 9.09320535e-06, 6.06213690e-06, 2.02071230e-06,\n",
       "        9.09320535e-06, 9.09320535e-06, 4.04142460e-06, 3.03106845e-06]),\n",
       " array([   0,   50,  100,  150,  200,  250,  300,  350,  400,  450,  500,\n",
       "         550,  600,  650,  700,  750,  800,  850,  900,  950, 1000, 1050,\n",
       "        1100, 1150, 1200, 1250, 1300, 1350, 1400, 1450, 1500, 1550, 1600,\n",
       "        1650, 1700, 1750, 1800, 1850, 1900, 1950, 2000, 2050, 2100, 2150,\n",
       "        2200, 2250, 2300, 2350, 2400, 2450, 2500, 2550, 2600, 2650, 2700,\n",
       "        2750, 2800, 2850, 2900, 2950, 3000, 3050, 3100, 3150, 3200, 3250,\n",
       "        3300, 3350, 3400, 3450, 3500, 3550, 3600, 3650, 3700, 3750, 3800,\n",
       "        3850, 3900, 3950, 4000]),\n",
       " <a list of 80 Patch objects>)"
      ]
     },
     "execution_count": 160,
     "metadata": {},
     "output_type": "execute_result"
    },
    {
     "data": {
      "image/png": "[encoded data removed]",
      "text/plain": [
       "<Figure size 432x288 with 1 Axes>"
      ]
     },
     "metadata": {
      "needs_background": "light"
     },
     "output_type": "display_data"
    }
   ],
   "source": [
    "plt.hist(x= total.mass.flatten(), bins=arr, log=True, density=True)"
   ]
  },
  {
   "cell_type": "code",
   "execution_count": 161,
   "metadata": {},
   "outputs": [
    {
     "name": "stdout",
     "output_type": "stream",
     "text": [
      "41\n"
     ]
    }
   ],
   "source": [
    "print(len(ptbins6))"
   ]
  },
  {
   "cell_type": "markdown",
   "metadata": {},
   "source": [
    "# Invariant mass plot for Grav 2"
   ]
  },
  {
   "cell_type": "code",
   "execution_count": 162,
   "metadata": {},
   "outputs": [],
   "source": [
    "grav2 = leadingjets2.cross(zbosons2)"
   ]
  },
  {
   "cell_type": "code",
   "execution_count": 163,
   "metadata": {},
   "outputs": [],
   "source": [
    "total2 = grav2.i0 + grav2.i1"
   ]
  },
  {
   "cell_type": "code",
   "execution_count": 164,
   "metadata": {},
   "outputs": [
    {
     "data": {
      "text/plain": [
       "(array([1.01584722e-06, 4.06338887e-06, 2.36692401e-04, 5.84721658e-03,\n",
       "        2.83624543e-03, 3.49451443e-04, 1.72694027e-04, 1.02600569e-04,\n",
       "        5.68874441e-05, 4.87606664e-05, 2.33644860e-05, 3.96180414e-05,\n",
       "        1.82852499e-05, 1.11743194e-05, 1.42218610e-05, 1.93010971e-05,\n",
       "        2.03169443e-05, 1.72694027e-05, 1.52377082e-05, 1.82852499e-05,\n",
       "        1.93010971e-05, 2.43803332e-05, 2.23486388e-05, 1.21901666e-05,\n",
       "        1.82852499e-05, 1.32060138e-05, 9.14262495e-06, 1.42218610e-05,\n",
       "        1.82852499e-05, 1.21901666e-05, 1.93010971e-05, 1.21901666e-05,\n",
       "        1.21901666e-05, 1.52377082e-05, 1.72694027e-05, 2.33644860e-05,\n",
       "        2.03169443e-05, 3.86021942e-05, 6.19666802e-05, 6.86712718e-04,\n",
       "        8.13490451e-03, 3.25071109e-04, 1.69646485e-04, 7.61885412e-05,\n",
       "        6.19666802e-05, 4.67289720e-05, 2.74278748e-05, 3.55546526e-05,\n",
       "        1.93010971e-05, 2.03169443e-05, 1.42218610e-05, 2.03169443e-05,\n",
       "        9.14262495e-06, 1.11743194e-05, 1.11743194e-05, 1.21901666e-05,\n",
       "        1.01584722e-05, 8.12677773e-06, 5.07923608e-06, 1.01584722e-05,\n",
       "        5.07923608e-06, 5.07923608e-06, 2.03169443e-06, 2.03169443e-06,\n",
       "        5.07923608e-06, 3.04754165e-06, 2.03169443e-06, 3.04754165e-06,\n",
       "        4.06338887e-06, 2.03169443e-06, 1.01584722e-06, 7.11093052e-06,\n",
       "        2.03169443e-06, 0.00000000e+00, 1.01584722e-06, 1.01584722e-06,\n",
       "        1.01584722e-06, 0.00000000e+00, 1.01584722e-06, 0.00000000e+00]),\n",
       " array([   0,   50,  100,  150,  200,  250,  300,  350,  400,  450,  500,\n",
       "         550,  600,  650,  700,  750,  800,  850,  900,  950, 1000, 1050,\n",
       "        1100, 1150, 1200, 1250, 1300, 1350, 1400, 1450, 1500, 1550, 1600,\n",
       "        1650, 1700, 1750, 1800, 1850, 1900, 1950, 2000, 2050, 2100, 2150,\n",
       "        2200, 2250, 2300, 2350, 2400, 2450, 2500, 2550, 2600, 2650, 2700,\n",
       "        2750, 2800, 2850, 2900, 2950, 3000, 3050, 3100, 3150, 3200, 3250,\n",
       "        3300, 3350, 3400, 3450, 3500, 3550, 3600, 3650, 3700, 3750, 3800,\n",
       "        3850, 3900, 3950, 4000]),\n",
       " <a list of 80 Patch objects>)"
      ]
     },
     "execution_count": 164,
     "metadata": {},
     "output_type": "execute_result"
    },
    {
     "data": {
      "image/png": "[encoded data removed]",
      "text/plain": [
       "<Figure size 432x288 with 1 Axes>"
      ]
     },
     "metadata": {
      "needs_background": "light"
     },
     "output_type": "display_data"
    }
   ],
   "source": [
    "plt.hist(x= total2.mass.flatten(), bins=arr, log=True, density=True, color='blue')"
   ]
  },
  {
   "cell_type": "markdown",
   "metadata": {},
   "source": [
    "# Invariant mass plot for Grav 1"
   ]
  },
  {
   "cell_type": "code",
   "execution_count": 165,
   "metadata": {},
   "outputs": [],
   "source": [
    "grav1 = leadingjets.cross(zbosons)"
   ]
  },
  {
   "cell_type": "code",
   "execution_count": 166,
   "metadata": {},
   "outputs": [],
   "source": [
    "total1 = grav1.i0 + grav1.i1"
   ]
  },
  {
   "cell_type": "code",
   "execution_count": 167,
   "metadata": {},
   "outputs": [
    {
     "data": {
      "text/plain": [
       "(array([0.00000000e+00, 1.08137334e-06, 7.93728035e-04, 6.62989997e-03,\n",
       "        1.49770208e-03, 2.21681536e-04, 9.73236010e-05, 8.75912409e-05,\n",
       "        7.24520141e-05, 5.19059205e-05, 4.75804271e-05, 5.19059205e-05,\n",
       "        4.75804271e-05, 6.16382806e-05, 4.97431738e-05, 7.56961341e-05,\n",
       "        7.13706407e-05, 1.08137334e-04, 2.29251149e-04, 1.59502568e-03,\n",
       "        6.98026494e-03, 3.06028656e-04, 1.79507975e-04, 9.08353609e-05,\n",
       "        6.70451473e-05, 7.13706407e-05, 4.21735604e-05, 5.51500406e-05,\n",
       "        3.78480670e-05, 4.54176805e-05, 3.24412003e-05, 2.91970803e-05,\n",
       "        2.16274669e-05, 1.94647202e-05, 1.94647202e-05, 1.94647202e-05,\n",
       "        1.73019735e-05, 1.73019735e-05, 1.94647202e-05, 1.18951068e-05,\n",
       "        1.29764801e-05, 8.65098675e-06, 7.56961341e-06, 1.18951068e-05,\n",
       "        8.65098675e-06, 8.65098675e-06, 5.40686672e-06, 8.65098675e-06,\n",
       "        2.16274669e-06, 4.32549338e-06, 4.32549338e-06, 5.40686672e-06,\n",
       "        1.08137334e-06, 3.24412003e-06, 2.16274669e-06, 3.24412003e-06,\n",
       "        6.48824006e-06, 1.08137334e-06, 1.08137334e-06, 5.40686672e-06,\n",
       "        0.00000000e+00, 0.00000000e+00, 1.08137334e-06, 2.16274669e-06,\n",
       "        1.08137334e-06, 1.08137334e-06, 2.16274669e-06, 2.16274669e-06,\n",
       "        0.00000000e+00, 2.16274669e-06, 1.08137334e-06, 0.00000000e+00,\n",
       "        0.00000000e+00, 0.00000000e+00, 0.00000000e+00, 0.00000000e+00,\n",
       "        0.00000000e+00, 0.00000000e+00, 0.00000000e+00, 0.00000000e+00]),\n",
       " array([   0,   50,  100,  150,  200,  250,  300,  350,  400,  450,  500,\n",
       "         550,  600,  650,  700,  750,  800,  850,  900,  950, 1000, 1050,\n",
       "        1100, 1150, 1200, 1250, 1300, 1350, 1400, 1450, 1500, 1550, 1600,\n",
       "        1650, 1700, 1750, 1800, 1850, 1900, 1950, 2000, 2050, 2100, 2150,\n",
       "        2200, 2250, 2300, 2350, 2400, 2450, 2500, 2550, 2600, 2650, 2700,\n",
       "        2750, 2800, 2850, 2900, 2950, 3000, 3050, 3100, 3150, 3200, 3250,\n",
       "        3300, 3350, 3400, 3450, 3500, 3550, 3600, 3650, 3700, 3750, 3800,\n",
       "        3850, 3900, 3950, 4000]),\n",
       " <a list of 80 Patch objects>)"
      ]
     },
     "execution_count": 167,
     "metadata": {},
     "output_type": "execute_result"
    },
    {
     "data": {
      "image/png": "[encoded data removed]",
      "text/plain": [
       "<Figure size 432x288 with 1 Axes>"
      ]
     },
     "metadata": {
      "needs_background": "light"
     },
     "output_type": "display_data"
    }
   ],
   "source": [
    "plt.hist(x= total1.mass.flatten(), bins=arr, log=True, density=True, color='blue')"
   ]
  }
 ],
 "metadata": {
  "kernelspec": {
   "display_name": "Python 3",
   "language": "python",
   "name": "python3"
  },
  "language_info": {
   "codemirror_mode": {
    "name": "ipython",
    "version": 3
   },
   "file_extension": ".py",
   "mimetype": "text/x-python",
   "name": "python",
   "nbconvert_exporter": "python",
   "pygments_lexer": "ipython3",
   "version": "3.6.8"
  }
 },
 "nbformat": 4,
 "nbformat_minor": 2
}
