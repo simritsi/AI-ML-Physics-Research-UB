{
 "cells": [
  {
   "cell_type": "code",
   "execution_count": 89,
   "metadata": {},
   "outputs": [],
   "source": [
    "import uproot\n",
    "import uproot_methods\n",
    "import awkward\n",
    "import matplotlib.pyplot as plt\n",
    "import numpy as np"
   ]
  },
  {
   "cell_type": "code",
   "execution_count": 90,
   "metadata": {},
   "outputs": [
    {
     "name": "stdout",
     "output_type": "stream",
     "text": [
      "[b'nJet', b'jet_pt', b'jet_eta', b'jet_phi', b'jet_m', b'jet_nc', b'jet_ic', b'nGen', b'gen_pt', b'gen_eta', b'gen_phi', b'gen_m', b'gen_flags', b'gen_id', b'gen_status', b'gen_mother1', b'gen_mother2', b'gen_daughter1', b'gen_daughter2', b'gen_col', b'gen_vxx', b'gen_vyy', b'gen_vzz', b'gen_tau']\n"
     ]
    }
   ],
   "source": [
    "RS = uproot.open(\"/home/physicist/results/gravkk_zz_1TeV.root\")[\"T\"]\n",
    "print(RS.keys())\n",
    "ja = RS.arrays(['gen_pt', 'gen_eta', 'gen_phi', 'gen_m', \n",
    "               'gen_id', 'gen_status', \n",
    "               'gen_mother1', 'gen_mother2', \n",
    "               'gen_daughter1', 'gen_daughter2', \n",
    "               'gen_col', 'jet_pt', 'jet_eta', 'jet_phi', 'jet_m'])\n",
    "\n",
    "gen_pt = ja[b'gen_pt']\n",
    "gen_eta = ja[b'gen_eta']\n",
    "gen_phi = ja[b'gen_phi']\n",
    "gen_m = ja[b'gen_m']\n",
    "gen_id = ja[b'gen_id']\n",
    "gen_status = ja[b'gen_status']\n",
    "\n",
    "jet_pt = ja[b'jet_pt']\n",
    "jet_eta = ja[b'jet_eta']\n",
    "jet_phi = ja[b'jet_phi']\n",
    "jet_m = ja[b'jet_m']"
   ]
  },
  {
   "cell_type": "code",
   "execution_count": 91,
   "metadata": {},
   "outputs": [],
   "source": [
    "jets = uproot_methods.TLorentzVectorArray.from_ptetaphim(jet_pt, jet_eta, jet_phi, jet_m)"
   ]
  },
  {
   "cell_type": "code",
   "execution_count": 92,
   "metadata": {},
   "outputs": [],
   "source": [
    "isz = abs(jet_pt) == 23\n",
    "ishard = abs(jet_m) == 62\n",
    "selected = isz & ishard\n",
    "zbosons = jets[ selected ]"
   ]
  },
  {
   "cell_type": "code",
   "execution_count": 93,
   "metadata": {},
   "outputs": [
    {
     "data": {
      "text/plain": [
       "array([], dtype=float32)"
      ]
     },
     "execution_count": 93,
     "metadata": {},
     "output_type": "execute_result"
    }
   ],
   "source": [
    "zbosons.pt.flatten()"
   ]
  },
  {
   "cell_type": "code",
   "execution_count": 94,
   "metadata": {},
   "outputs": [
    {
     "data": {
      "image/png": "[encoded data removed]",
      "text/plain": [
       "<Figure size 432x288 with 1 Axes>"
      ]
     },
     "metadata": {
      "needs_background": "light"
     },
     "output_type": "display_data"
    }
   ],
   "source": [
    "ptbins = [0, 100, 200, 300, 400, 500, 600, 700, 2000]\n",
    "plt.hist(x=zbosons.pt.flatten(), bins=ptbins, log=True, density=True)\n",
    "plt.show()"
   ]
  },
  {
   "cell_type": "code",
   "execution_count": null,
   "metadata": {},
   "outputs": [],
   "source": []
  },
  {
   "cell_type": "code",
   "execution_count": null,
   "metadata": {},
   "outputs": [],
   "source": []
  }
 ],
 "metadata": {
  "kernelspec": {
   "display_name": "Python 3",
   "language": "python",
   "name": "python3"
  },
  "language_info": {
   "codemirror_mode": {
    "name": "ipython",
    "version": 3
   },
   "file_extension": ".py",
   "mimetype": "text/x-python",
   "name": "python",
   "nbconvert_exporter": "python",
   "pygments_lexer": "ipython3",
   "version": "3.6.8"
  }
 },
 "nbformat": 4,
 "nbformat_minor": 2
}
