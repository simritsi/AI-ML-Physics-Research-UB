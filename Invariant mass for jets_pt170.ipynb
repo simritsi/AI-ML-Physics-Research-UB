{
 "cells": [
  {
   "cell_type": "code",
   "execution_count": 2,
   "metadata": {},
   "outputs": [],
   "source": [
    "import uproot\n",
    "import uproot_methods\n",
    "import awkward\n",
    "import matplotlib.pyplot as plt\n",
    "import numpy as np"
   ]
  },
  {
   "cell_type": "code",
   "execution_count": 9,
   "metadata": {},
   "outputs": [],
   "source": [
    "G3 = uproot.open(\"/home/physicist/results/zjets_pt170.root\")[\"T\"]\n",
    "\n",
    "g3 = G3.arrays(['gen_pt', 'gen_eta', 'gen_phi', 'gen_m', \n",
    "               'gen_id', 'gen_status', \n",
    "               'gen_mother1', 'gen_mother2', \n",
    "               'gen_daughter1', 'gen_daughter2', \n",
    "               'gen_col', 'jet_pt', 'jet_eta', 'jet_phi', 'jet_m', 'nJet', 'jet_ic', 'jet_nc'])\n",
    "\n",
    "gen_pt = g3[b'gen_pt']\n",
    "gen_eta = g3[b'gen_eta']\n",
    "gen_phi = g3[b'gen_phi']\n",
    "gen_m = g3[b'gen_m']\n",
    "\n",
    "gen_id = g3[b'gen_id']\n",
    "gen_status = g3[b'gen_status']\n",
    "\n",
    "##### Jets\n",
    "jet_pt = g3[b'jet_pt']\n",
    "jet_eta = g3[b'jet_eta']\n",
    "jet_phi = g3[b'jet_phi']\n",
    "jet_m = g3[b'jet_m']\n",
    "jet_ic = g3[b'jet_ic']\n",
    "jet_nc = g3[b'jet_nc']\n",
    "nJet = g3[b'nJet']"
   ]
  },
  {
   "cell_type": "code",
   "execution_count": 10,
   "metadata": {},
   "outputs": [],
   "source": [
    "particles = uproot_methods.TLorentzVectorArray.from_ptetaphim(gen_pt, gen_eta, gen_phi, gen_m)"
   ]
  },
  {
   "cell_type": "code",
   "execution_count": 11,
   "metadata": {},
   "outputs": [],
   "source": [
    "jet3 = uproot_methods.TLorentzVectorArray.from_ptetaphim(jet_pt, jet_eta, jet_phi, jet_m)"
   ]
  },
  {
   "cell_type": "code",
   "execution_count": 12,
   "metadata": {},
   "outputs": [],
   "source": [
    "isz = abs(gen_id) == 23\n",
    "ishard = abs(gen_status) == 62\n",
    "selected = isz & ishard\n",
    "zbosons = particles[ selected ]"
   ]
  },
  {
   "cell_type": "code",
   "execution_count": 15,
   "metadata": {},
   "outputs": [],
   "source": [
    "jets_pt = jet3.pt\n",
    "jet_imaxpt = jets_pt.argmax()\n",
    "leadingjets = jet3[jet_imaxpt]"
   ]
  },
  {
   "cell_type": "code",
   "execution_count": 17,
   "metadata": {},
   "outputs": [
    {
     "name": "stdout",
     "output_type": "stream",
     "text": [
      "2574  ----- 2574\n"
     ]
    }
   ],
   "source": [
    "print(len(leadingjets) , \" -----\", len(zbosons))"
   ]
  },
  {
   "cell_type": "code",
   "execution_count": 18,
   "metadata": {},
   "outputs": [],
   "source": [
    "zjets_plot = leadingjets.cross(zbosons)"
   ]
  },
  {
   "cell_type": "code",
   "execution_count": 19,
   "metadata": {},
   "outputs": [],
   "source": [
    "sum = zjets_plot.i0 + zjets_plot.i1"
   ]
  },
  {
   "cell_type": "code",
   "execution_count": 20,
   "metadata": {},
   "outputs": [],
   "source": [
    "arr = []\n",
    "f = 0\n",
    "\n",
    "for i in range(81):\n",
    "    arr.append(f)\n",
    "    f += 50"
   ]
  },
  {
   "cell_type": "code",
   "execution_count": 24,
   "metadata": {},
   "outputs": [
    {
     "data": {
      "text/plain": [
       "(array([0.00000000e+00, 0.00000000e+00, 0.00000000e+00, 0.00000000e+00,\n",
       "        0.00000000e+00, 0.00000000e+00, 0.00000000e+00, 0.00000000e+00,\n",
       "        1.39860140e-04, 1.86480186e-03, 3.04584305e-03, 2.63403263e-03,\n",
       "        2.27661228e-03, 1.70940171e-03, 1.67055167e-03, 1.11888112e-03,\n",
       "        1.08780109e-03, 8.78010878e-04, 6.52680653e-04, 5.36130536e-04,\n",
       "        4.11810412e-04, 2.95260295e-04, 2.87490287e-04, 2.40870241e-04,\n",
       "        1.55400155e-04, 1.47630148e-04, 1.24320124e-04, 7.77000777e-05,\n",
       "        6.21600622e-05, 6.99300699e-05, 7.77000777e-05, 3.88500389e-05,\n",
       "        4.66200466e-05, 3.88500389e-05, 2.33100233e-05, 3.10800311e-05,\n",
       "        4.66200466e-05, 1.55400155e-05, 1.55400155e-05, 2.33100233e-05,\n",
       "        2.33100233e-05, 1.55400155e-05, 1.55400155e-05, 3.88500389e-05,\n",
       "        7.77000777e-06, 7.77000777e-06, 1.55400155e-05, 0.00000000e+00,\n",
       "        0.00000000e+00, 0.00000000e+00, 0.00000000e+00, 0.00000000e+00,\n",
       "        7.77000777e-06, 7.77000777e-06, 0.00000000e+00, 0.00000000e+00,\n",
       "        0.00000000e+00, 0.00000000e+00, 7.77000777e-06, 0.00000000e+00,\n",
       "        0.00000000e+00, 0.00000000e+00, 0.00000000e+00, 0.00000000e+00,\n",
       "        0.00000000e+00, 0.00000000e+00, 0.00000000e+00, 0.00000000e+00,\n",
       "        0.00000000e+00, 0.00000000e+00, 0.00000000e+00, 0.00000000e+00,\n",
       "        0.00000000e+00, 0.00000000e+00, 7.77000777e-06, 0.00000000e+00,\n",
       "        0.00000000e+00, 0.00000000e+00, 0.00000000e+00, 0.00000000e+00]),\n",
       " array([   0,   50,  100,  150,  200,  250,  300,  350,  400,  450,  500,\n",
       "         550,  600,  650,  700,  750,  800,  850,  900,  950, 1000, 1050,\n",
       "        1100, 1150, 1200, 1250, 1300, 1350, 1400, 1450, 1500, 1550, 1600,\n",
       "        1650, 1700, 1750, 1800, 1850, 1900, 1950, 2000, 2050, 2100, 2150,\n",
       "        2200, 2250, 2300, 2350, 2400, 2450, 2500, 2550, 2600, 2650, 2700,\n",
       "        2750, 2800, 2850, 2900, 2950, 3000, 3050, 3100, 3150, 3200, 3250,\n",
       "        3300, 3350, 3400, 3450, 3500, 3550, 3600, 3650, 3700, 3750, 3800,\n",
       "        3850, 3900, 3950, 4000]),\n",
       " <a list of 80 Patch objects>)"
      ]
     },
     "execution_count": 24,
     "metadata": {},
     "output_type": "execute_result"
    },
    {
     "data": {
      "image/png": "[encoded data removed]",
      "text/plain": [
       "<Figure size 432x288 with 1 Axes>"
      ]
     },
     "metadata": {
      "needs_background": "light"
     },
     "output_type": "display_data"
    }
   ],
   "source": [
    "plt.hist(x= sum.mass.flatten(), bins=arr, log=True, density=True, color = \"blue\")"
   ]
  },
  {
   "cell_type": "code",
   "execution_count": null,
   "metadata": {},
   "outputs": [],
   "source": []
  }
 ],
 "metadata": {
  "kernelspec": {
   "display_name": "Python 3",
   "language": "python",
   "name": "python3"
  },
  "language_info": {
   "codemirror_mode": {
    "name": "ipython",
    "version": 3
   },
   "file_extension": ".py",
   "mimetype": "text/x-python",
   "name": "python",
   "nbconvert_exporter": "python",
   "pygments_lexer": "ipython3",
   "version": "3.6.8"
  }
 },
 "nbformat": 4,
 "nbformat_minor": 2
}
