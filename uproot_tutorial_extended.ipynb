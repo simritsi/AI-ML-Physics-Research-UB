{
 "cells": [
  {
   "cell_type": "markdown",
   "metadata": {},
   "source": [
    "# Including selections in `uproot` and `JaggedArray` \n",
    "\n",
    "Here we now investigate more robust features of `JaggedArray`. "
   ]
  },
  {
   "cell_type": "code",
   "execution_count": 183,
   "metadata": {},
   "outputs": [],
   "source": [
    "import uproot\n",
    "import uproot_methods\n",
    "import awkward\n",
    "import matplotlib.pyplot as plt\n",
    "import numpy as np\n"
   ]
  },
  {
   "cell_type": "markdown",
   "metadata": {},
   "source": [
    "## Read in\n",
    "\n",
    "Here, we read in the ROOT file with uproot. This will convert the `ROOT` data branches into `JaggedArrays`. We can read whichever branches we want. "
   ]
  },
  {
   "cell_type": "code",
   "execution_count": 184,
   "metadata": {},
   "outputs": [],
   "source": [
    "T = uproot.open(\"/home/physicist/results/zjets_pt170.root\")[\"T\"]\n",
    "ja = T.arrays(['gen_pt', 'gen_eta', 'gen_phi', 'gen_m', \n",
    "               'gen_id', 'gen_status', \n",
    "               'gen_mother1', 'gen_mother2', \n",
    "               'gen_daughter1', 'gen_daughter2', \n",
    "               'gen_col'])\n",
    "\n",
    "gen_pt = ja[b'gen_pt']\n",
    "gen_eta = ja[b'gen_eta']\n",
    "gen_phi = ja[b'gen_phi']\n",
    "gen_m = ja[b'gen_m']\n",
    "gen_id = ja[b'gen_id']\n",
    "gen_status = ja[b'gen_status']"
   ]
  },
  {
   "cell_type": "markdown",
   "metadata": {},
   "source": [
    "## Get a list of particles as TLorentzVectorArrays"
   ]
  },
  {
   "cell_type": "code",
   "execution_count": 185,
   "metadata": {},
   "outputs": [],
   "source": [
    "particles = uproot_methods.TLorentzVectorArray.from_ptetaphim(gen_pt, gen_eta, gen_phi, gen_m)"
   ]
  },
  {
   "cell_type": "markdown",
   "metadata": {},
   "source": [
    "## Select $Z$ bosons \n",
    "\n",
    "Here, we select the \"hard\" $Z$ bosons. They have a PDG ID of 23, and a \"status\" of 22. "
   ]
  },
  {
   "cell_type": "code",
   "execution_count": 188,
   "metadata": {},
   "outputs": [],
   "source": [
    "isz = abs(gen_id) == 23\n",
    "ishard = abs(gen_status) == 62\n",
    "selected = isz & ishard\n",
    "zbosons = particles[ selected ]"
   ]
  },
  {
   "cell_type": "code",
   "execution_count": 189,
   "metadata": {},
   "outputs": [
    {
     "data": {
      "text/plain": [
       "array([ 9.68086 , 27.715792, 20.510752, ..., 29.02512 , 12.826066,\n",
       "       70.3555  ], dtype=float32)"
      ]
     },
     "execution_count": 189,
     "metadata": {},
     "output_type": "execute_result"
    }
   ],
   "source": [
    "zbosons.pt.flatten()"
   ]
  },
  {
   "cell_type": "markdown",
   "metadata": {},
   "source": [
    "## Now plot the Z pt and mass"
   ]
  },
  {
   "cell_type": "code",
   "execution_count": 190,
   "metadata": {},
   "outputs": [
    {
     "data": {
      "image/png": "[encoded data removed]",
      "text/plain": [
       "<Figure size 432x288 with 1 Axes>"
      ]
     },
     "metadata": {
      "needs_background": "light"
     },
     "output_type": "display_data"
    }
   ],
   "source": [
    "ptbins = [0, 100, 200, 300, 400, 500, 600, 700, 2000]\n",
    "plt.hist(x=zbosons.pt.flatten(), bins=ptbins, log=True, density=True)\n",
    "plt.show()\n"
   ]
  },
  {
   "cell_type": "code",
   "execution_count": 191,
   "metadata": {},
   "outputs": [
    {
     "data": {
      "image/png": "[encoded data removed]",
      "text/plain": [
       "<Figure size 432x288 with 1 Axes>"
      ]
     },
     "metadata": {
      "needs_background": "light"
     },
     "output_type": "display_data"
    }
   ],
   "source": [
    "mbins = [0, 10, 20, 30, 40, 50, 60, 70, 80, 90, 100, 200, 300, 400, 500, 600, 700, 2000]\n",
    "plt.hist(x=zbosons.mass.flatten(), bins=mbins, log=True, density=True)\n",
    "plt.show()"
   ]
  },
  {
   "cell_type": "code",
   "execution_count": null,
   "metadata": {},
   "outputs": [],
   "source": []
  }
 ],
 "metadata": {
  "kernelspec": {
   "display_name": "Python 3",
   "language": "python",
   "name": "python3"
  },
  "language_info": {
   "codemirror_mode": {
    "name": "ipython",
    "version": 3
   },
   "file_extension": ".py",
   "mimetype": "text/x-python",
   "name": "python",
   "nbconvert_exporter": "python",
   "pygments_lexer": "ipython3",
   "version": "3.6.8"
  }
 },
 "nbformat": 4,
 "nbformat_minor": 2
}
